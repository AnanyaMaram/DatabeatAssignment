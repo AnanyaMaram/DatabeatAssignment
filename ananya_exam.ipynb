{
  "nbformat": 4,
  "nbformat_minor": 0,
  "metadata": {
    "colab": {
      "name": "ananya exam.ipynb",
      "provenance": [],
      "collapsed_sections": []
    },
    "kernelspec": {
      "name": "python3",
      "display_name": "Python 3"
    }
  },
  "cells": [
    {
      "cell_type": "code",
      "metadata": {
        "id": "iMOpijL29quN"
      },
      "source": [
        "import pandas as pd\n"
      ],
      "execution_count": null,
      "outputs": []
    },
    {
      "cell_type": "code",
      "metadata": {
        "id": "aSij-sgGUfau",
        "outputId": "f79cac65-975e-4474-8afb-7dc9972c2b82",
        "colab": {
          "base_uri": "https://localhost:8080/",
          "height": 285
        }
      },
      "source": [
        "activity_data=pd.read_csv(\"activity_data.csv\")\n",
        "activity_data.head()"
      ],
      "execution_count": null,
      "outputs": [
        {
          "output_type": "execute_result",
          "data": {
            "text/html": [
              "<div>\n",
              "<style scoped>\n",
              "    .dataframe tbody tr th:only-of-type {\n",
              "        vertical-align: middle;\n",
              "    }\n",
              "\n",
              "    .dataframe tbody tr th {\n",
              "        vertical-align: top;\n",
              "    }\n",
              "\n",
              "    .dataframe thead th {\n",
              "        text-align: right;\n",
              "    }\n",
              "</style>\n",
              "<table border=\"1\" class=\"dataframe\">\n",
              "  <thead>\n",
              "    <tr style=\"text-align: right;\">\n",
              "      <th></th>\n",
              "      <th>media_type</th>\n",
              "      <th>watched</th>\n",
              "      <th>rating</th>\n",
              "      <th>watchlist</th>\n",
              "      <th>profile_id</th>\n",
              "      <th>id</th>\n",
              "      <th>hide</th>\n",
              "    </tr>\n",
              "  </thead>\n",
              "  <tbody>\n",
              "    <tr>\n",
              "      <th>0</th>\n",
              "      <td>{'S': 'movies'}</td>\n",
              "      <td>{'M': {'value': {'NULL': True}, 'timestamp': {...</td>\n",
              "      <td>{'M': {'value': {'NULL': True}, 'timestamp': {...</td>\n",
              "      <td>{'M': {'value': {'S': '0'}, 'timestamp': {'S':...</td>\n",
              "      <td>{'S': 'b1d89c45-ed9b-4a0e-8d78-28e628c2fb8c'}</td>\n",
              "      <td>{'S': '744_movies'}</td>\n",
              "      <td>{'M': {'value': {'NULL': True}, 'timestamp': {...</td>\n",
              "    </tr>\n",
              "    <tr>\n",
              "      <th>1</th>\n",
              "      <td>{'S': 'movies'}</td>\n",
              "      <td>{'M': {'value': {'NULL': True}, 'timestamp': {...</td>\n",
              "      <td>{'M': {'value': {'S': '3'}, 'timestamp': {'S':...</td>\n",
              "      <td>{'M': {'value': {'NULL': True}, 'timestamp': {...</td>\n",
              "      <td>{'S': 'b1d89c45-ed9b-4a0e-8d78-28e628c2fb8c'}</td>\n",
              "      <td>{'S': '820_movies'}</td>\n",
              "      <td>{'M': {'value': {'NULL': True}, 'timestamp': {...</td>\n",
              "    </tr>\n",
              "    <tr>\n",
              "      <th>2</th>\n",
              "      <td>{'S': 'movies'}</td>\n",
              "      <td>{'M': {'value': {'NULL': True}, 'timestamp': {...</td>\n",
              "      <td>{'M': {'value': {'NULL': True}, 'timestamp': {...</td>\n",
              "      <td>{'M': {'value': {'S': '0'}, 'timestamp': {'S':...</td>\n",
              "      <td>{'S': 'b1d89c45-ed9b-4a0e-8d78-28e628c2fb8c'}</td>\n",
              "      <td>{'S': '402_movies'}</td>\n",
              "      <td>{'M': {'value': {'NULL': True}, 'timestamp': {...</td>\n",
              "    </tr>\n",
              "    <tr>\n",
              "      <th>3</th>\n",
              "      <td>{'S': 'movies'}</td>\n",
              "      <td>{'M': {'value': {'NULL': True}, 'timestamp': {...</td>\n",
              "      <td>{'M': {'value': {'S': '3'}, 'timestamp': {'S':...</td>\n",
              "      <td>{'M': {'value': {'S': '0'}, 'timestamp': {'S':...</td>\n",
              "      <td>{'S': 'b1d89c45-ed9b-4a0e-8d78-28e628c2fb8c'}</td>\n",
              "      <td>{'S': '87_movies'}</td>\n",
              "      <td>{'M': {'value': {'NULL': True}, 'timestamp': {...</td>\n",
              "    </tr>\n",
              "    <tr>\n",
              "      <th>4</th>\n",
              "      <td>{'S': 'movies'}</td>\n",
              "      <td>{'M': {'value': {'NULL': True}, 'timestamp': {...</td>\n",
              "      <td>{'M': {'value': {'NULL': True}, 'timestamp': {...</td>\n",
              "      <td>{'M': {'value': {'S': '0'}, 'timestamp': {'S':...</td>\n",
              "      <td>{'S': 'b1d89c45-ed9b-4a0e-8d78-28e628c2fb8c'}</td>\n",
              "      <td>{'S': '810_movies'}</td>\n",
              "      <td>{'M': {'value': {'NULL': True}, 'timestamp': {...</td>\n",
              "    </tr>\n",
              "  </tbody>\n",
              "</table>\n",
              "</div>"
            ],
            "text/plain": [
              "        media_type  ...                                               hide\n",
              "0  {'S': 'movies'}  ...  {'M': {'value': {'NULL': True}, 'timestamp': {...\n",
              "1  {'S': 'movies'}  ...  {'M': {'value': {'NULL': True}, 'timestamp': {...\n",
              "2  {'S': 'movies'}  ...  {'M': {'value': {'NULL': True}, 'timestamp': {...\n",
              "3  {'S': 'movies'}  ...  {'M': {'value': {'NULL': True}, 'timestamp': {...\n",
              "4  {'S': 'movies'}  ...  {'M': {'value': {'NULL': True}, 'timestamp': {...\n",
              "\n",
              "[5 rows x 7 columns]"
            ]
          },
          "metadata": {
            "tags": []
          },
          "execution_count": 44
        }
      ]
    },
    {
      "cell_type": "code",
      "metadata": {
        "id": "de42IpqTViuN",
        "outputId": "f7b4a68b-e94a-42ad-aa80-20d2050e4e40",
        "colab": {
          "base_uri": "https://localhost:8080/",
          "height": 198
        }
      },
      "source": [
        "data=pd.read_csv(\"data.csv\")\n",
        "data.head()"
      ],
      "execution_count": null,
      "outputs": [
        {
          "output_type": "execute_result",
          "data": {
            "text/html": [
              "<div>\n",
              "<style scoped>\n",
              "    .dataframe tbody tr th:only-of-type {\n",
              "        vertical-align: middle;\n",
              "    }\n",
              "\n",
              "    .dataframe tbody tr th {\n",
              "        vertical-align: top;\n",
              "    }\n",
              "\n",
              "    .dataframe thead th {\n",
              "        text-align: right;\n",
              "    }\n",
              "</style>\n",
              "<table border=\"1\" class=\"dataframe\">\n",
              "  <thead>\n",
              "    <tr style=\"text-align: right;\">\n",
              "      <th></th>\n",
              "      <th>_type</th>\n",
              "      <th>_id</th>\n",
              "      <th>_score</th>\n",
              "      <th>_source</th>\n",
              "    </tr>\n",
              "  </thead>\n",
              "  <tbody>\n",
              "    <tr>\n",
              "      <th>0</th>\n",
              "      <td>movies</td>\n",
              "      <td>97</td>\n",
              "      <td>20.848059</td>\n",
              "      <td>{'cast': ['Jeff Bridges', 'Bruce Boxleitner', ...</td>\n",
              "    </tr>\n",
              "    <tr>\n",
              "      <th>1</th>\n",
              "      <td>movies</td>\n",
              "      <td>507</td>\n",
              "      <td>10.478757</td>\n",
              "      <td>{'cast': ['Eric Stoltz', 'Julie Delpy', 'Jean-...</td>\n",
              "    </tr>\n",
              "    <tr>\n",
              "      <th>2</th>\n",
              "      <td>movies</td>\n",
              "      <td>811</td>\n",
              "      <td>9.831051</td>\n",
              "      <td>{'cast': ['Bruce Dern', 'Cliff Potts', 'Ron Ri...</td>\n",
              "    </tr>\n",
              "    <tr>\n",
              "      <th>3</th>\n",
              "      <td>tvshows</td>\n",
              "      <td>25222</td>\n",
              "      <td>9.288745</td>\n",
              "      <td>{'cast': ['Ron Rifkin', 'Eddie Barth', 'Charle...</td>\n",
              "    </tr>\n",
              "    <tr>\n",
              "      <th>4</th>\n",
              "      <td>movies</td>\n",
              "      <td>757</td>\n",
              "      <td>9.140831</td>\n",
              "      <td>{'cast': ['Margaret Rutherford', 'Ron Moody', ...</td>\n",
              "    </tr>\n",
              "  </tbody>\n",
              "</table>\n",
              "</div>"
            ],
            "text/plain": [
              "     _type    _id     _score                                            _source\n",
              "0   movies     97  20.848059  {'cast': ['Jeff Bridges', 'Bruce Boxleitner', ...\n",
              "1   movies    507  10.478757  {'cast': ['Eric Stoltz', 'Julie Delpy', 'Jean-...\n",
              "2   movies    811   9.831051  {'cast': ['Bruce Dern', 'Cliff Potts', 'Ron Ri...\n",
              "3  tvshows  25222   9.288745  {'cast': ['Ron Rifkin', 'Eddie Barth', 'Charle...\n",
              "4   movies    757   9.140831  {'cast': ['Margaret Rutherford', 'Ron Moody', ..."
            ]
          },
          "metadata": {
            "tags": []
          },
          "execution_count": 45
        }
      ]
    },
    {
      "cell_type": "code",
      "metadata": {
        "id": "KZ0etF_KVnNV",
        "outputId": "d9409abf-149f-4d65-9e7b-c894a6d535f1",
        "colab": {
          "base_uri": "https://localhost:8080/",
          "height": 198
        }
      },
      "source": [
        "output=pd.read_csv(\"output.csv\")\n",
        "output.head()"
      ],
      "execution_count": null,
      "outputs": [
        {
          "output_type": "execute_result",
          "data": {
            "text/html": [
              "<div>\n",
              "<style scoped>\n",
              "    .dataframe tbody tr th:only-of-type {\n",
              "        vertical-align: middle;\n",
              "    }\n",
              "\n",
              "    .dataframe tbody tr th {\n",
              "        vertical-align: top;\n",
              "    }\n",
              "\n",
              "    .dataframe thead th {\n",
              "        text-align: right;\n",
              "    }\n",
              "</style>\n",
              "<table border=\"1\" class=\"dataframe\">\n",
              "  <thead>\n",
              "    <tr style=\"text-align: right;\">\n",
              "      <th></th>\n",
              "      <th>_source</th>\n",
              "    </tr>\n",
              "  </thead>\n",
              "  <tbody>\n",
              "    <tr>\n",
              "      <th>0</th>\n",
              "      <td>{'cast': ['Jeff Bridges', 'Bruce Boxleitner', ...</td>\n",
              "    </tr>\n",
              "    <tr>\n",
              "      <th>1</th>\n",
              "      <td>{'cast': ['Eric Stoltz', 'Julie Delpy', 'Jean-...</td>\n",
              "    </tr>\n",
              "    <tr>\n",
              "      <th>2</th>\n",
              "      <td>{'cast': ['Bruce Dern', 'Cliff Potts', 'Ron Ri...</td>\n",
              "    </tr>\n",
              "    <tr>\n",
              "      <th>3</th>\n",
              "      <td>{'cast': ['Ron Rifkin', 'Eddie Barth', 'Charle...</td>\n",
              "    </tr>\n",
              "    <tr>\n",
              "      <th>4</th>\n",
              "      <td>{'cast': ['Margaret Rutherford', 'Ron Moody', ...</td>\n",
              "    </tr>\n",
              "  </tbody>\n",
              "</table>\n",
              "</div>"
            ],
            "text/plain": [
              "                                             _source\n",
              "0  {'cast': ['Jeff Bridges', 'Bruce Boxleitner', ...\n",
              "1  {'cast': ['Eric Stoltz', 'Julie Delpy', 'Jean-...\n",
              "2  {'cast': ['Bruce Dern', 'Cliff Potts', 'Ron Ri...\n",
              "3  {'cast': ['Ron Rifkin', 'Eddie Barth', 'Charle...\n",
              "4  {'cast': ['Margaret Rutherford', 'Ron Moody', ..."
            ]
          },
          "metadata": {
            "tags": []
          },
          "execution_count": 46
        }
      ]
    },
    {
      "cell_type": "code",
      "metadata": {
        "id": "YIcuF2j3VruZ",
        "outputId": "71fb614a-57ac-4400-d9b2-01b7908a19d8",
        "colab": {
          "base_uri": "https://localhost:8080/"
        }
      },
      "source": [
        "data.columns"
      ],
      "execution_count": null,
      "outputs": [
        {
          "output_type": "execute_result",
          "data": {
            "text/plain": [
              "Index(['_type', '_id', '_score', '_source'], dtype='object')"
            ]
          },
          "metadata": {
            "tags": []
          },
          "execution_count": 47
        }
      ]
    },
    {
      "cell_type": "code",
      "metadata": {
        "id": "KXgRpCgTWFCZ"
      },
      "source": [
        "import json\n"
      ],
      "execution_count": null,
      "outputs": []
    },
    {
      "cell_type": "code",
      "metadata": {
        "id": "-TI07WsGWHiW",
        "outputId": "687b1fcf-0378-43bf-9b3b-045083532897",
        "colab": {
          "base_uri": "https://localhost:8080/"
        }
      },
      "source": [
        "k=data['_source']\n",
        "print(type(k))"
      ],
      "execution_count": null,
      "outputs": [
        {
          "output_type": "stream",
          "text": [
            "<class 'pandas.core.series.Series'>\n"
          ],
          "name": "stdout"
        }
      ]
    },
    {
      "cell_type": "code",
      "metadata": {
        "id": "_CnfT832WOCF",
        "outputId": "b8692909-ddbc-4e1e-c2fe-f2cc591dcb01",
        "colab": {
          "base_uri": "https://localhost:8080/",
          "height": 1000
        }
      },
      "source": [
        "# l=[]\n",
        "for i in k:\n",
        "  print(i)\n",
        "  print(type(i))\n",
        "  i=i.replace(\"\\'\",\"\\\"\")\n",
        "  i=i.replace(\"False\",\" \\\"False\\\" \")\n",
        "  i=i.replace(\"nan\",\" \\\"nan\\\" \")\n",
        "  i=i.replace(\" \\'None\\' \",\"None\")\n",
        "  i=i.replace(\"None\",\" \\\"None\\\" \")\n",
        "  print(i)\n",
        "  ii=json.loads(i)\n",
        "  print(ii)\n",
        "  print(type(ii))\n",
        "  # l.append(ii)"
      ],
      "execution_count": null,
      "outputs": [
        {
          "output_type": "stream",
          "text": [
            "{'cast': ['Jeff Bridges', 'Bruce Boxleitner', 'David Warner', 'Cindy Morgan', 'Barnard Hughes', 'Dan Shor', 'Peter Jurasik', 'Tony Stephano', 'Craig Chudy', 'Vince Deadrick Jr.', 'Sam Schatz', 'Michael Dudikoff'], 'streaming_modes': ['Subscription'], 'thumbnail_id': {'mob': '97-mob-w342-zwSFEczP7AzqugAHHIX3zHniT0t', 'tv': '97-tv-w780-zwSFEczP7AzqugAHHIX3zHniT0t', 'web': '97-web-w500-zwSFEczP7AzqugAHHIX3zHniT0t'}, 'media_type': 'movies', 'year': '1982', 'genres': ['Science Fiction', 'Action', 'Adventure'], 'ratings': {'internet_movie_database': '6.8/10'}, 'language': 'English', 'id': '97', 'services': ['Jio Cinema'], 'title_name': 'Tron', 'sooper_original': False}\n",
            "<class 'str'>\n",
            "{\"cast\": [\"Jeff Bridges\", \"Bruce Boxleitner\", \"David Warner\", \"Cindy Morgan\", \"Barnard Hughes\", \"Dan Shor\", \"Peter Jurasik\", \"Tony Stephano\", \"Craig Chudy\", \"Vince Deadrick Jr.\", \"Sam Schatz\", \"Michael Dudikoff\"], \"streaming_modes\": [\"Subscription\"], \"thumbnail_id\": {\"mob\": \"97-mob-w342-zwSFEczP7AzqugAHHIX3zHniT0t\", \"tv\": \"97-tv-w780-zwSFEczP7AzqugAHHIX3zHniT0t\", \"web\": \"97-web-w500-zwSFEczP7AzqugAHHIX3zHniT0t\"}, \"media_type\": \"movies\", \"year\": \"1982\", \"genres\": [\"Science Fiction\", \"Action\", \"Adventure\"], \"ratings\": {\"internet_movie_database\": \"6.8/10\"}, \"language\": \"English\", \"id\": \"97\", \"services\": [\"Jio Cinema\"], \"title_name\": \"Tron\", \"sooper_original\":  \"False\" }\n",
            "{'cast': ['Jeff Bridges', 'Bruce Boxleitner', 'David Warner', 'Cindy Morgan', 'Barnard Hughes', 'Dan Shor', 'Peter Jurasik', 'Tony Stephano', 'Craig Chudy', 'Vince Deadrick Jr.', 'Sam Schatz', 'Michael Dudikoff'], 'streaming_modes': ['Subscription'], 'thumbnail_id': {'mob': '97-mob-w342-zwSFEczP7AzqugAHHIX3zHniT0t', 'tv': '97-tv-w780-zwSFEczP7AzqugAHHIX3zHniT0t', 'web': '97-web-w500-zwSFEczP7AzqugAHHIX3zHniT0t'}, 'media_type': 'movies', 'year': '1982', 'genres': ['Science Fiction', 'Action', 'Adventure'], 'ratings': {'internet_movie_database': '6.8/10'}, 'language': 'English', 'id': '97', 'services': ['Jio Cinema'], 'title_name': 'Tron', 'sooper_original': 'False'}\n",
            "<class 'dict'>\n",
            "{'cast': ['Eric Stoltz', 'Julie Delpy', 'Jean-Hugues Anglade', 'Tai Thai', 'Bruce Ramsay', 'Kario Salem', 'Salvator Xuereb', 'Gary Kemp', 'Martin Raymond', 'Eric Pascal Chaltiel', 'Cecilia Peck', 'Ron Jeremy', 'Gladys Holland', 'Kimberly Beck', 'Djimon Hounsou', 'Annette Goodman'], 'streaming_modes': None, 'thumbnail_id': {'mob': '507-mob-w342-sbzhigU1L5C9xJUUEAv1P2FlGfW', 'tv': '507-tv-w780-sbzhigU1L5C9xJUUEAv1P2FlGfW', 'web': '507-web-w500-sbzhigU1L5C9xJUUEAv1P2FlGfW'}, 'media_type': 'movies', 'year': '1993', 'genres': ['Action', 'Crime', 'Drama', 'Thriller'], 'ratings': {'internet_movie_database': '6.5/10'}, 'language': 'English', 'id': '507', 'services': None, 'title_name': 'Killing Zoe', 'sooper_original': False}\n",
            "<class 'str'>\n",
            "{\"cast\": [\"Eric Stoltz\", \"Julie Delpy\", \"Jean-Hugues Anglade\", \"Tai Thai\", \"Bruce Ramsay\", \"Kario Salem\", \"Salvator Xuereb\", \"Gary Kemp\", \"Martin Raymond\", \"Eric Pascal Chaltiel\", \"Cecilia Peck\", \"Ron Jeremy\", \"Gladys Holland\", \"Kimberly Beck\", \"Djimon Hounsou\", \"Annette Goodman\"], \"streaming_modes\":  \"None\" , \"thumbnail_id\": {\"mob\": \"507-mob-w342-sbzhigU1L5C9xJUUEAv1P2FlGfW\", \"tv\": \"507-tv-w780-sbzhigU1L5C9xJUUEAv1P2FlGfW\", \"web\": \"507-web-w500-sbzhigU1L5C9xJUUEAv1P2FlGfW\"}, \"media_type\": \"movies\", \"year\": \"1993\", \"genres\": [\"Action\", \"Crime\", \"Drama\", \"Thriller\"], \"ratings\": {\"internet_movie_database\": \"6.5/10\"}, \"language\": \"English\", \"id\": \"507\", \"services\":  \"None\" , \"title_name\": \"Killing Zoe\", \"sooper_original\":  \"False\" }\n",
            "{'cast': ['Eric Stoltz', 'Julie Delpy', 'Jean-Hugues Anglade', 'Tai Thai', 'Bruce Ramsay', 'Kario Salem', 'Salvator Xuereb', 'Gary Kemp', 'Martin Raymond', 'Eric Pascal Chaltiel', 'Cecilia Peck', 'Ron Jeremy', 'Gladys Holland', 'Kimberly Beck', 'Djimon Hounsou', 'Annette Goodman'], 'streaming_modes': 'None', 'thumbnail_id': {'mob': '507-mob-w342-sbzhigU1L5C9xJUUEAv1P2FlGfW', 'tv': '507-tv-w780-sbzhigU1L5C9xJUUEAv1P2FlGfW', 'web': '507-web-w500-sbzhigU1L5C9xJUUEAv1P2FlGfW'}, 'media_type': 'movies', 'year': '1993', 'genres': ['Action', 'Crime', 'Drama', 'Thriller'], 'ratings': {'internet_movie_database': '6.5/10'}, 'language': 'English', 'id': '507', 'services': 'None', 'title_name': 'Killing Zoe', 'sooper_original': 'False'}\n",
            "<class 'dict'>\n",
            "{'cast': ['Bruce Dern', 'Cliff Potts', 'Ron Rifkin', 'Jesse Vint', 'Steven Brown', 'Mark Persons', 'Cheryl Sparks'], 'streaming_modes': None, 'thumbnail_id': {'mob': '811-mob-w342-ahasZ5HILZHtlrl6cbXgpfk0y8H', 'tv': '811-tv-w780-ahasZ5HILZHtlrl6cbXgpfk0y8H', 'web': '811-web-w500-ahasZ5HILZHtlrl6cbXgpfk0y8H'}, 'media_type': 'movies', 'year': '1972', 'genres': ['Adventure', 'Drama', 'Science Fiction'], 'ratings': {'internet_movie_database': '6.7/10'}, 'language': 'English', 'id': '811', 'services': None, 'title_name': 'Silent Running', 'sooper_original': False}\n",
            "<class 'str'>\n",
            "{\"cast\": [\"Bruce Dern\", \"Cliff Potts\", \"Ron Rifkin\", \"Jesse Vint\", \"Steven Brown\", \"Mark Persons\", \"Cheryl Sparks\"], \"streaming_modes\":  \"None\" , \"thumbnail_id\": {\"mob\": \"811-mob-w342-ahasZ5HILZHtlrl6cbXgpfk0y8H\", \"tv\": \"811-tv-w780-ahasZ5HILZHtlrl6cbXgpfk0y8H\", \"web\": \"811-web-w500-ahasZ5HILZHtlrl6cbXgpfk0y8H\"}, \"media_type\": \"movies\", \"year\": \"1972\", \"genres\": [\"Adventure\", \"Drama\", \"Science Fiction\"], \"ratings\": {\"internet_movie_database\": \"6.7/10\"}, \"language\": \"English\", \"id\": \"811\", \"services\":  \"None\" , \"title_name\": \"Silent Running\", \"sooper_original\":  \"False\" }\n",
            "{'cast': ['Bruce Dern', 'Cliff Potts', 'Ron Rifkin', 'Jesse Vint', 'Steven Brown', 'Mark Persons', 'Cheryl Sparks'], 'streaming_modes': 'None', 'thumbnail_id': {'mob': '811-mob-w342-ahasZ5HILZHtlrl6cbXgpfk0y8H', 'tv': '811-tv-w780-ahasZ5HILZHtlrl6cbXgpfk0y8H', 'web': '811-web-w500-ahasZ5HILZHtlrl6cbXgpfk0y8H'}, 'media_type': 'movies', 'year': '1972', 'genres': ['Adventure', 'Drama', 'Science Fiction'], 'ratings': {'internet_movie_database': '6.7/10'}, 'language': 'English', 'id': '811', 'services': 'None', 'title_name': 'Silent Running', 'sooper_original': 'False'}\n",
            "<class 'dict'>\n",
            "{'cast': ['Ron Rifkin', 'Eddie Barth', 'Charles Siebert', 'Randee Heller', 'Cynthia Harris', 'Stephen Pearlman', 'Mark Lonow'], 'streaming_modes': None, 'thumbnail_id': None, 'media_type': 'tvshows', 'year': '1978', 'genres': ['Comedy'], 'ratings': {'internet_movie_database': '6.6/10'}, 'language': 'English', 'id': '25222', 'services': None, 'title_name': 'Husbands, Wives & Lovers', 'sooper_original': False}\n",
            "<class 'str'>\n",
            "{\"cast\": [\"Ron Rifkin\", \"Eddie Barth\", \"Charles Siebert\", \"Randee Heller\", \"Cynthia Harris\", \"Stephen Pearlman\", \"Mark Lonow\"], \"streaming_modes\":  \"None\" , \"thumbnail_id\":  \"None\" , \"media_type\": \"tvshows\", \"year\": \"1978\", \"genres\": [\"Comedy\"], \"ratings\": {\"internet_movie_database\": \"6.6/10\"}, \"language\": \"English\", \"id\": \"25222\", \"services\":  \"None\" , \"title_name\": \"Husbands, Wives & Lovers\", \"sooper_original\":  \"False\" }\n",
            "{'cast': ['Ron Rifkin', 'Eddie Barth', 'Charles Siebert', 'Randee Heller', 'Cynthia Harris', 'Stephen Pearlman', 'Mark Lonow'], 'streaming_modes': 'None', 'thumbnail_id': 'None', 'media_type': 'tvshows', 'year': '1978', 'genres': ['Comedy'], 'ratings': {'internet_movie_database': '6.6/10'}, 'language': 'English', 'id': '25222', 'services': 'None', 'title_name': 'Husbands, Wives & Lovers', 'sooper_original': 'False'}\n",
            "<class 'dict'>\n",
            "{'cast': ['Margaret Rutherford', 'Ron Moody', 'Charles Tingwell', 'Andrew Cruickshank', 'Megs Jenkins', 'Ralph Michael', 'James Bolam', 'Stringer Davis', 'Francesca Annis', 'Pauline Jameson', 'Annette Kerr', 'Alison Seebohm', 'Windsor Davies', 'Neil Stacy', 'Maurice Good', 'Stella Tanner', 'Dennis Price', 'Terry Scott'], 'streaming_modes': None, 'thumbnail_id': {'mob': '757-mob-w342-enE3AbGsmxuGEZnQ8yEDZn43Yr3', 'tv': '757-tv-w780-enE3AbGsmxuGEZnQ8yEDZn43Yr3', 'web': '757-web-w500-enE3AbGsmxuGEZnQ8yEDZn43Yr3'}, 'media_type': 'movies', 'year': '1964', 'genres': ['Comedy', 'Crime', 'Drama', 'Mystery', 'Thriller'], 'ratings': {'internet_movie_database': '7.2/10'}, 'language': 'English', 'id': '757', 'services': None, 'title_name': 'Murder Most Foul', 'sooper_original': False}\n",
            "<class 'str'>\n",
            "{\"cast\": [\"Margaret Rutherford\", \"Ron Moody\", \"Charles Tingwell\", \"Andrew Cruickshank\", \"Megs Jenkins\", \"Ralph Michael\", \"James Bolam\", \"Stringer Davis\", \"Francesca Annis\", \"Pauline Jameson\", \"Annette Kerr\", \"Alison Seebohm\", \"Windsor Davies\", \"Neil Stacy\", \"Maurice Good\", \"Stella Tanner\", \"Dennis Price\", \"Terry Scott\"], \"streaming_modes\":  \"None\" , \"thumbnail_id\": {\"mob\": \"757-mob-w342-enE3AbGsmxuGEZnQ8yEDZn43Yr3\", \"tv\": \"757-tv-w780-enE3AbGsmxuGEZnQ8yEDZn43Yr3\", \"web\": \"757-web-w500-enE3AbGsmxuGEZnQ8yEDZn43Yr3\"}, \"media_type\": \"movies\", \"year\": \"1964\", \"genres\": [\"Comedy\", \"Crime\", \"Drama\", \"Mystery\", \"Thriller\"], \"ratings\": {\"internet_movie_database\": \"7.2/10\"}, \"language\": \"English\", \"id\": \"757\", \"services\":  \"None\" , \"title_name\": \"Murder Most Foul\", \"sooper_original\":  \"False\" }\n",
            "{'cast': ['Margaret Rutherford', 'Ron Moody', 'Charles Tingwell', 'Andrew Cruickshank', 'Megs Jenkins', 'Ralph Michael', 'James Bolam', 'Stringer Davis', 'Francesca Annis', 'Pauline Jameson', 'Annette Kerr', 'Alison Seebohm', 'Windsor Davies', 'Neil Stacy', 'Maurice Good', 'Stella Tanner', 'Dennis Price', 'Terry Scott'], 'streaming_modes': 'None', 'thumbnail_id': {'mob': '757-mob-w342-enE3AbGsmxuGEZnQ8yEDZn43Yr3', 'tv': '757-tv-w780-enE3AbGsmxuGEZnQ8yEDZn43Yr3', 'web': '757-web-w500-enE3AbGsmxuGEZnQ8yEDZn43Yr3'}, 'media_type': 'movies', 'year': '1964', 'genres': ['Comedy', 'Crime', 'Drama', 'Mystery', 'Thriller'], 'ratings': {'internet_movie_database': '7.2/10'}, 'language': 'English', 'id': '757', 'services': 'None', 'title_name': 'Murder Most Foul', 'sooper_original': 'False'}\n",
            "<class 'dict'>\n",
            "{'cast': ['Radha Mitchell', 'Sean Bean', 'Jodelle Ferland', 'Laurie Holden', 'Deborah Kara Unger', 'Kim Coates', 'Tanya Allen', 'Alice Krige', 'Nicky Guadagni', 'Maxine Dumont', 'Christopher Britton', 'Colleen Williams', 'Ron Gabriel', 'Derek Ritschel', 'Eve Crawford', 'Amanda Hiebert', 'Roberto Campanella', 'Stephen R. Hart', 'Janet Land', 'Elizabeth Harpur', 'Hannah Fleming', 'Lorry Ayers', 'Melissa Panton', 'Rhoslynne Bugay', 'Chantelle Leonardo', 'Carrie Eklund'], 'streaming_modes': None, 'thumbnail_id': {'mob': '588-mob-w342-qekwDdf4QymCwgeeFGVln7EISA0', 'tv': '588-tv-w780-qekwDdf4QymCwgeeFGVln7EISA0', 'web': '588-web-w500-qekwDdf4QymCwgeeFGVln7EISA0'}, 'media_type': 'movies', 'year': '2006', 'genres': ['Horror', 'Mystery'], 'ratings': {'internet_movie_database': '6.5/10'}, 'language': 'English', 'id': '588', 'services': None, 'title_name': 'Silent Hill', 'sooper_original': False}\n",
            "<class 'str'>\n",
            "{\"cast\": [\"Radha Mitchell\", \"Sean Bean\", \"Jodelle Ferland\", \"Laurie Holden\", \"Deborah Kara Unger\", \"Kim Coates\", \"Tanya Allen\", \"Alice Krige\", \"Nicky Guadagni\", \"Maxine Dumont\", \"Christopher Britton\", \"Colleen Williams\", \"Ron Gabriel\", \"Derek Ritschel\", \"Eve Crawford\", \"Amanda Hiebert\", \"Roberto Campanella\", \"Stephen R. Hart\", \"Janet Land\", \"Elizabeth Harpur\", \"Hannah Fleming\", \"Lorry Ayers\", \"Melissa Panton\", \"Rhoslynne Bugay\", \"Chantelle Leonardo\", \"Carrie Eklund\"], \"streaming_modes\":  \"None\" , \"thumbnail_id\": {\"mob\": \"588-mob-w342-qekwDdf4QymCwgeeFGVln7EISA0\", \"tv\": \"588-tv-w780-qekwDdf4QymCwgeeFGVln7EISA0\", \"web\": \"588-web-w500-qekwDdf4QymCwgeeFGVln7EISA0\"}, \"media_type\": \"movies\", \"year\": \"2006\", \"genres\": [\"Horror\", \"Mystery\"], \"ratings\": {\"internet_movie_database\": \"6.5/10\"}, \"language\": \"English\", \"id\": \"588\", \"services\":  \"None\" , \"title_name\": \"Silent Hill\", \"sooper_original\":  \"False\" }\n",
            "{'cast': ['Radha Mitchell', 'Sean Bean', 'Jodelle Ferland', 'Laurie Holden', 'Deborah Kara Unger', 'Kim Coates', 'Tanya Allen', 'Alice Krige', 'Nicky Guadagni', 'Maxine Dumont', 'Christopher Britton', 'Colleen Williams', 'Ron Gabriel', 'Derek Ritschel', 'Eve Crawford', 'Amanda Hiebert', 'Roberto Campanella', 'Stephen R. Hart', 'Janet Land', 'Elizabeth Harpur', 'Hannah Fleming', 'Lorry Ayers', 'Melissa Panton', 'Rhoslynne Bugay', 'Chantelle Leonardo', 'Carrie Eklund'], 'streaming_modes': 'None', 'thumbnail_id': {'mob': '588-mob-w342-qekwDdf4QymCwgeeFGVln7EISA0', 'tv': '588-tv-w780-qekwDdf4QymCwgeeFGVln7EISA0', 'web': '588-web-w500-qekwDdf4QymCwgeeFGVln7EISA0'}, 'media_type': 'movies', 'year': '2006', 'genres': ['Horror', 'Mystery'], 'ratings': {'internet_movie_database': '6.5/10'}, 'language': 'English', 'id': '588', 'services': 'None', 'title_name': 'Silent Hill', 'sooper_original': 'False'}\n",
            "<class 'dict'>\n",
            "{'cast': ['Mike Myers', 'Eddie Murphy', 'Cameron Diaz', 'Julie Andrews', 'Antonio Banderas', 'John Cleese', 'Rupert Everett', 'Jennifer Saunders', 'Aron Warner', 'Kelly Asbury', 'Cody Cameron', 'Conrad Vernon', 'Christopher Knights', 'David P. Smith', 'Mark Moseley', 'Kelly Cooney', 'Wendy Bilanski', 'Larry King', 'Guillaume Aretos', 'Chris Miller', 'Latifa Ouaou', 'Alina Phelan', 'Erika Thomas', 'Joan Rivers', 'Andrew Adamson'], 'streaming_modes': ['Subscription', 'Pay & Watch'], 'thumbnail_id': {'mob': '809-mob-w342-oljiDFPyMY437BRRV69AzVDSiKy', 'tv': '809-tv-w780-oljiDFPyMY437BRRV69AzVDSiKy', 'web': '809-web-w500-oljiDFPyMY437BRRV69AzVDSiKy'}, 'media_type': 'movies', 'year': '2004', 'genres': ['Animation', 'Family', 'Comedy', 'Fantasy', 'Adventure'], 'ratings': {'internet_movie_database': '7.2/10'}, 'language': 'English', 'id': '809', 'services': ['Apple iTunes', 'Jio Cinema'], 'title_name': 'Shrek 2', 'sooper_original': False}\n",
            "<class 'str'>\n",
            "{\"cast\": [\"Mike Myers\", \"Eddie Murphy\", \"Cameron Diaz\", \"Julie Andrews\", \"Antonio Banderas\", \"John Cleese\", \"Rupert Everett\", \"Jennifer Saunders\", \"Aron Warner\", \"Kelly Asbury\", \"Cody Cameron\", \"Conrad Vernon\", \"Christopher Knights\", \"David P. Smith\", \"Mark Moseley\", \"Kelly Cooney\", \"Wendy Bilanski\", \"Larry King\", \"Guillaume Aretos\", \"Chris Miller\", \"Latifa Ouaou\", \"Alina Phelan\", \"Erika Thomas\", \"Joan Rivers\", \"Andrew Adamson\"], \"streaming_modes\": [\"Subscription\", \"Pay & Watch\"], \"thumbnail_id\": {\"mob\": \"809-mob-w342-oljiDFPyMY437BRRV69AzVDSiKy\", \"tv\": \"809-tv-w780-oljiDFPyMY437BRRV69AzVDSiKy\", \"web\": \"809-web-w500-oljiDFPyMY437BRRV69AzVDSiKy\"}, \"media_type\": \"movies\", \"year\": \"2004\", \"genres\": [\"Animation\", \"Family\", \"Comedy\", \"Fantasy\", \"Adventure\"], \"ratings\": {\"internet_movie_database\": \"7.2/10\"}, \"language\": \"English\", \"id\": \"809\", \"services\": [\"Apple iTunes\", \"Jio Cinema\"], \"title_name\": \"Shrek 2\", \"sooper_original\":  \"False\" }\n",
            "{'cast': ['Mike Myers', 'Eddie Murphy', 'Cameron Diaz', 'Julie Andrews', 'Antonio Banderas', 'John Cleese', 'Rupert Everett', 'Jennifer Saunders', 'Aron Warner', 'Kelly Asbury', 'Cody Cameron', 'Conrad Vernon', 'Christopher Knights', 'David P. Smith', 'Mark Moseley', 'Kelly Cooney', 'Wendy Bilanski', 'Larry King', 'Guillaume Aretos', 'Chris Miller', 'Latifa Ouaou', 'Alina Phelan', 'Erika Thomas', 'Joan Rivers', 'Andrew Adamson'], 'streaming_modes': ['Subscription', 'Pay & Watch'], 'thumbnail_id': {'mob': '809-mob-w342-oljiDFPyMY437BRRV69AzVDSiKy', 'tv': '809-tv-w780-oljiDFPyMY437BRRV69AzVDSiKy', 'web': '809-web-w500-oljiDFPyMY437BRRV69AzVDSiKy'}, 'media_type': 'movies', 'year': '2004', 'genres': ['Animation', 'Family', 'Comedy', 'Fantasy', 'Adventure'], 'ratings': {'internet_movie_database': '7.2/10'}, 'language': 'English', 'id': '809', 'services': ['Apple iTunes', 'Jio Cinema'], 'title_name': 'Shrek 2', 'sooper_original': 'False'}\n",
            "<class 'dict'>\n",
            "{'cast': ['Andy Griffith', 'Ron Howard', 'Frances Bavier', 'George Lindsey', 'Paul Hartman', 'Don Knotts', 'Jim Nabors'], 'streaming_modes': 'None', 'thumbnail_id': {'mob': '106-mob-w342-rGd7qBylf9NVdrXGVItt3hvmP8O', 'tv': '106-tv-w780-rGd7qBylf9NVdrXGVItt3hvmP8O', 'web': '106-web-w500-rGd7qBylf9NVdrXGVItt3hvmP8O'}, 'media_type': 'tvshows', 'year': '1960', 'ratings': {'internet_movie_database': '8.3/10'}, 'genre': ['Comedy'], 'language': 'English', 'id': '106', 'services': 'None', 'title_name': 'The Andy Griffith Show', 'sooper_original': False}\n",
            "<class 'str'>\n",
            "{\"cast\": [\"Andy Griffith\", \"Ron Howard\", \"Frances Bavier\", \"George Lindsey\", \"Paul Hartman\", \"Don Knotts\", \"Jim Nabors\"], \"streaming_modes\": \" \"None\" \", \"thumbnail_id\": {\"mob\": \"106-mob-w342-rGd7qBylf9NVdrXGVItt3hvmP8O\", \"tv\": \"106-tv-w780-rGd7qBylf9NVdrXGVItt3hvmP8O\", \"web\": \"106-web-w500-rGd7qBylf9NVdrXGVItt3hvmP8O\"}, \"media_type\": \"tvshows\", \"year\": \"1960\", \"ratings\": {\"internet_movie_database\": \"8.3/10\"}, \"genre\": [\"Comedy\"], \"language\": \"English\", \"id\": \"106\", \"services\": \" \"None\" \", \"title_name\": \"The Andy Griffith Show\", \"sooper_original\":  \"False\" }\n"
          ],
          "name": "stdout"
        },
        {
          "output_type": "error",
          "ename": "JSONDecodeError",
          "evalue": "ignored",
          "traceback": [
            "\u001b[0;31m---------------------------------------------------------------------------\u001b[0m",
            "\u001b[0;31mJSONDecodeError\u001b[0m                           Traceback (most recent call last)",
            "\u001b[0;32m<ipython-input-57-b53d8e323df6>\u001b[0m in \u001b[0;36m<module>\u001b[0;34m()\u001b[0m\n\u001b[1;32m      9\u001b[0m   \u001b[0mi\u001b[0m\u001b[0;34m=\u001b[0m\u001b[0mi\u001b[0m\u001b[0;34m.\u001b[0m\u001b[0mreplace\u001b[0m\u001b[0;34m(\u001b[0m\u001b[0;34m\"None\"\u001b[0m\u001b[0;34m,\u001b[0m\u001b[0;34m\" \\\"None\\\" \"\u001b[0m\u001b[0;34m)\u001b[0m\u001b[0;34m\u001b[0m\u001b[0;34m\u001b[0m\u001b[0m\n\u001b[1;32m     10\u001b[0m   \u001b[0mprint\u001b[0m\u001b[0;34m(\u001b[0m\u001b[0mi\u001b[0m\u001b[0;34m)\u001b[0m\u001b[0;34m\u001b[0m\u001b[0;34m\u001b[0m\u001b[0m\n\u001b[0;32m---> 11\u001b[0;31m   \u001b[0mii\u001b[0m\u001b[0;34m=\u001b[0m\u001b[0mjson\u001b[0m\u001b[0;34m.\u001b[0m\u001b[0mloads\u001b[0m\u001b[0;34m(\u001b[0m\u001b[0mi\u001b[0m\u001b[0;34m)\u001b[0m\u001b[0;34m\u001b[0m\u001b[0;34m\u001b[0m\u001b[0m\n\u001b[0m\u001b[1;32m     12\u001b[0m   \u001b[0mprint\u001b[0m\u001b[0;34m(\u001b[0m\u001b[0mii\u001b[0m\u001b[0;34m)\u001b[0m\u001b[0;34m\u001b[0m\u001b[0;34m\u001b[0m\u001b[0m\n\u001b[1;32m     13\u001b[0m   \u001b[0mprint\u001b[0m\u001b[0;34m(\u001b[0m\u001b[0mtype\u001b[0m\u001b[0;34m(\u001b[0m\u001b[0mii\u001b[0m\u001b[0;34m)\u001b[0m\u001b[0;34m)\u001b[0m\u001b[0;34m\u001b[0m\u001b[0;34m\u001b[0m\u001b[0m\n",
            "\u001b[0;32m/usr/lib/python3.6/json/__init__.py\u001b[0m in \u001b[0;36mloads\u001b[0;34m(s, encoding, cls, object_hook, parse_float, parse_int, parse_constant, object_pairs_hook, **kw)\u001b[0m\n\u001b[1;32m    352\u001b[0m             \u001b[0mparse_int\u001b[0m \u001b[0;32mis\u001b[0m \u001b[0;32mNone\u001b[0m \u001b[0;32mand\u001b[0m \u001b[0mparse_float\u001b[0m \u001b[0;32mis\u001b[0m \u001b[0;32mNone\u001b[0m \u001b[0;32mand\u001b[0m\u001b[0;34m\u001b[0m\u001b[0;34m\u001b[0m\u001b[0m\n\u001b[1;32m    353\u001b[0m             parse_constant is None and object_pairs_hook is None and not kw):\n\u001b[0;32m--> 354\u001b[0;31m         \u001b[0;32mreturn\u001b[0m \u001b[0m_default_decoder\u001b[0m\u001b[0;34m.\u001b[0m\u001b[0mdecode\u001b[0m\u001b[0;34m(\u001b[0m\u001b[0ms\u001b[0m\u001b[0;34m)\u001b[0m\u001b[0;34m\u001b[0m\u001b[0;34m\u001b[0m\u001b[0m\n\u001b[0m\u001b[1;32m    355\u001b[0m     \u001b[0;32mif\u001b[0m \u001b[0mcls\u001b[0m \u001b[0;32mis\u001b[0m \u001b[0;32mNone\u001b[0m\u001b[0;34m:\u001b[0m\u001b[0;34m\u001b[0m\u001b[0;34m\u001b[0m\u001b[0m\n\u001b[1;32m    356\u001b[0m         \u001b[0mcls\u001b[0m \u001b[0;34m=\u001b[0m \u001b[0mJSONDecoder\u001b[0m\u001b[0;34m\u001b[0m\u001b[0;34m\u001b[0m\u001b[0m\n",
            "\u001b[0;32m/usr/lib/python3.6/json/decoder.py\u001b[0m in \u001b[0;36mdecode\u001b[0;34m(self, s, _w)\u001b[0m\n\u001b[1;32m    337\u001b[0m \u001b[0;34m\u001b[0m\u001b[0m\n\u001b[1;32m    338\u001b[0m         \"\"\"\n\u001b[0;32m--> 339\u001b[0;31m         \u001b[0mobj\u001b[0m\u001b[0;34m,\u001b[0m \u001b[0mend\u001b[0m \u001b[0;34m=\u001b[0m \u001b[0mself\u001b[0m\u001b[0;34m.\u001b[0m\u001b[0mraw_decode\u001b[0m\u001b[0;34m(\u001b[0m\u001b[0ms\u001b[0m\u001b[0;34m,\u001b[0m \u001b[0midx\u001b[0m\u001b[0;34m=\u001b[0m\u001b[0m_w\u001b[0m\u001b[0;34m(\u001b[0m\u001b[0ms\u001b[0m\u001b[0;34m,\u001b[0m \u001b[0;36m0\u001b[0m\u001b[0;34m)\u001b[0m\u001b[0;34m.\u001b[0m\u001b[0mend\u001b[0m\u001b[0;34m(\u001b[0m\u001b[0;34m)\u001b[0m\u001b[0;34m)\u001b[0m\u001b[0;34m\u001b[0m\u001b[0;34m\u001b[0m\u001b[0m\n\u001b[0m\u001b[1;32m    340\u001b[0m         \u001b[0mend\u001b[0m \u001b[0;34m=\u001b[0m \u001b[0m_w\u001b[0m\u001b[0;34m(\u001b[0m\u001b[0ms\u001b[0m\u001b[0;34m,\u001b[0m \u001b[0mend\u001b[0m\u001b[0;34m)\u001b[0m\u001b[0;34m.\u001b[0m\u001b[0mend\u001b[0m\u001b[0;34m(\u001b[0m\u001b[0;34m)\u001b[0m\u001b[0;34m\u001b[0m\u001b[0;34m\u001b[0m\u001b[0m\n\u001b[1;32m    341\u001b[0m         \u001b[0;32mif\u001b[0m \u001b[0mend\u001b[0m \u001b[0;34m!=\u001b[0m \u001b[0mlen\u001b[0m\u001b[0;34m(\u001b[0m\u001b[0ms\u001b[0m\u001b[0;34m)\u001b[0m\u001b[0;34m:\u001b[0m\u001b[0;34m\u001b[0m\u001b[0;34m\u001b[0m\u001b[0m\n",
            "\u001b[0;32m/usr/lib/python3.6/json/decoder.py\u001b[0m in \u001b[0;36mraw_decode\u001b[0;34m(self, s, idx)\u001b[0m\n\u001b[1;32m    353\u001b[0m         \"\"\"\n\u001b[1;32m    354\u001b[0m         \u001b[0;32mtry\u001b[0m\u001b[0;34m:\u001b[0m\u001b[0;34m\u001b[0m\u001b[0;34m\u001b[0m\u001b[0m\n\u001b[0;32m--> 355\u001b[0;31m             \u001b[0mobj\u001b[0m\u001b[0;34m,\u001b[0m \u001b[0mend\u001b[0m \u001b[0;34m=\u001b[0m \u001b[0mself\u001b[0m\u001b[0;34m.\u001b[0m\u001b[0mscan_once\u001b[0m\u001b[0;34m(\u001b[0m\u001b[0ms\u001b[0m\u001b[0;34m,\u001b[0m \u001b[0midx\u001b[0m\u001b[0;34m)\u001b[0m\u001b[0;34m\u001b[0m\u001b[0;34m\u001b[0m\u001b[0m\n\u001b[0m\u001b[1;32m    356\u001b[0m         \u001b[0;32mexcept\u001b[0m \u001b[0mStopIteration\u001b[0m \u001b[0;32mas\u001b[0m \u001b[0merr\u001b[0m\u001b[0;34m:\u001b[0m\u001b[0;34m\u001b[0m\u001b[0;34m\u001b[0m\u001b[0m\n\u001b[1;32m    357\u001b[0m             \u001b[0;32mraise\u001b[0m \u001b[0mJSONDecodeError\u001b[0m\u001b[0;34m(\u001b[0m\u001b[0;34m\"Expecting value\"\u001b[0m\u001b[0;34m,\u001b[0m \u001b[0ms\u001b[0m\u001b[0;34m,\u001b[0m \u001b[0merr\u001b[0m\u001b[0;34m.\u001b[0m\u001b[0mvalue\u001b[0m\u001b[0;34m)\u001b[0m \u001b[0;32mfrom\u001b[0m \u001b[0;32mNone\u001b[0m\u001b[0;34m\u001b[0m\u001b[0;34m\u001b[0m\u001b[0m\n",
            "\u001b[0;31mJSONDecodeError\u001b[0m: Expecting ',' delimiter: line 1 column 145 (char 144)"
          ]
        }
      ]
    },
    {
      "cell_type": "code",
      "metadata": {
        "id": "t8Fk5o5QWVL2"
      },
      "source": [
        ""
      ],
      "execution_count": null,
      "outputs": []
    }
  ]
}